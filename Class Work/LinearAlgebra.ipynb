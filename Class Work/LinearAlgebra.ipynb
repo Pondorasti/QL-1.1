{
 "metadata": {
  "language_info": {
   "codemirror_mode": {
    "name": "ipython",
    "version": 3
   },
   "file_extension": ".py",
   "mimetype": "text/x-python",
   "name": "python",
   "nbconvert_exporter": "python",
   "pygments_lexer": "ipython3",
   "version": "3.8.3-final"
  },
  "orig_nbformat": 2,
  "kernelspec": {
   "name": "python3",
   "display_name": "Python 3"
  }
 },
 "nbformat": 4,
 "nbformat_minor": 2,
 "cells": [
  {
   "cell_type": "code",
   "execution_count": 3,
   "metadata": {},
   "outputs": [],
   "source": [
    "import numpy as np"
   ]
  },
  {
   "cell_type": "code",
   "execution_count": 4,
   "metadata": {},
   "outputs": [
    {
     "output_type": "stream",
     "name": "stdout",
     "text": [
      "[ 5 10 15]\n[[1 2 3]]\n"
     ]
    }
   ],
   "source": [
    "vector1 = np.array([1, 2, 3])\n",
    "vector2 = np.transpose(np.array([[1], [2], [3]]))\n",
    "\n",
    "print(vector1 * 5)\n",
    "print(vector2)"
   ]
  },
  {
   "cell_type": "code",
   "execution_count": 5,
   "metadata": {},
   "outputs": [
    {
     "output_type": "stream",
     "name": "stdout",
     "text": [
      "16468.3507176455\n"
     ]
    }
   ],
   "source": [
    "europe = [48704, 41442, 32679, 32136, 30384, 29326, 27,789]\n",
    "asia = [26852, 23493, 18247, 13647, 9857, 5862]\n",
    "print(np.std(europe))"
   ]
  }
 ]
}