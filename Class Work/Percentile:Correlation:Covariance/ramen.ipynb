{
 "metadata": {
  "language_info": {
   "codemirror_mode": {
    "name": "ipython",
    "version": 3
   },
   "file_extension": ".py",
   "mimetype": "text/x-python",
   "name": "python",
   "nbconvert_exporter": "python",
   "pygments_lexer": "ipython3",
   "version": "3.8.3-final"
  },
  "orig_nbformat": 2,
  "kernelspec": {
   "name": "python3",
   "display_name": "Python 3"
  }
 },
 "nbformat": 4,
 "nbformat_minor": 2,
 "cells": [
  {
   "cell_type": "code",
   "execution_count": 3,
   "metadata": {},
   "outputs": [],
   "source": [
    "import pandas as pd\n",
    "import numpy as np"
   ]
  },
  {
   "cell_type": "code",
   "execution_count": 4,
   "metadata": {},
   "outputs": [],
   "source": [
    "ramen_ratings = pd.read_csv('ramen-ratings.csv')"
   ]
  },
  {
   "cell_type": "code",
   "execution_count": 5,
   "metadata": {},
   "outputs": [
    {
     "output_type": "stream",
     "name": "stdout",
     "text": [
      "Mean: 3.654675979821498\nSTD: 1.0153305948246325\n"
     ]
    }
   ],
   "source": [
    "stars = ramen_ratings['Stars']\n",
    "stars = pd.to_numeric(stars, errors=\"coerce\").dropna()\n",
    "\n",
    "print(f\"Mean: {stars.mean()}\")\n",
    "print(f\"STD: {stars.std()}\")"
   ]
  },
  {
   "cell_type": "code",
   "execution_count": 6,
   "metadata": {},
   "outputs": [],
   "source": [
    "data = np.array([1, 3, 5, 2, 3, 7, 8, 4, 10, 0, 6, 7, 3, 0, 3, 0, 5, 7, 10, 1, 4, 9, 3])\n",
    "\n",
    "def percentile(dataset, percent):\n",
    "    sorted_dataset = np.sort(dataset)\n",
    "\n",
    "    index = percent * len(sorted_dataset)\n",
    "    index = np.ceil(index) - 1\n",
    "\n",
    "    return sorted_dataset[index]\n"
   ]
  },
  {
   "cell_type": "code",
   "execution_count": 28,
   "metadata": {},
   "outputs": [
    {
     "output_type": "stream",
     "name": "stdout",
     "text": [
      "12.09\n"
     ]
    }
   ],
   "source": [
    "student_scores = np.array([18, 15, 12, 6, 8, 2, 3, 5, 20, 10])\n",
    "print(np.percentile(student_scores, 67))"
   ]
  }
 ]
}