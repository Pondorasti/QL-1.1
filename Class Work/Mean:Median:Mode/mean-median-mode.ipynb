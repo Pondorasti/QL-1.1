{
 "metadata": {
  "language_info": {
   "codemirror_mode": {
    "name": "ipython",
    "version": 3
   },
   "file_extension": ".py",
   "mimetype": "text/x-python",
   "name": "python",
   "nbconvert_exporter": "python",
   "pygments_lexer": "ipython3",
   "version": "3.8.3-final"
  },
  "orig_nbformat": 2,
  "kernelspec": {
   "name": "python3",
   "display_name": "Python 3"
  }
 },
 "nbformat": 4,
 "nbformat_minor": 2,
 "cells": [
  {
   "cell_type": "code",
   "execution_count": 2,
   "metadata": {},
   "outputs": [],
   "source": [
    "import pandas as pd\n",
    "import numpy as np"
   ]
  },
  {
   "cell_type": "code",
   "execution_count": 3,
   "metadata": {},
   "outputs": [
    {
     "output_type": "stream",
     "name": "stdout",
     "text": [
      "Hello again!\n"
     ]
    }
   ],
   "source": [
    "print(\"Hello again!\")"
   ]
  },
  {
   "cell_type": "code",
   "execution_count": 4,
   "metadata": {},
   "outputs": [
    {
     "output_type": "execute_result",
     "data": {
      "text/plain": [
       "151.93118850322801"
      ]
     },
     "metadata": {},
     "execution_count": 4
    }
   ],
   "source": [
    "salaries = pd.Series([70, 90, 90, 80, 130, 500, 60])\n",
    "salaries.describe().std()\n"
   ]
  },
  {
   "cell_type": "code",
   "execution_count": 5,
   "metadata": {},
   "outputs": [
    {
     "output_type": "execute_result",
     "data": {
      "text/plain": [
       "0    90\n",
       "dtype: int64"
      ]
     },
     "metadata": {},
     "execution_count": 5
    }
   ],
   "source": [
    "salaries.mode()"
   ]
  },
  {
   "cell_type": "code",
   "execution_count": 6,
   "metadata": {},
   "outputs": [
    {
     "output_type": "stream",
     "name": "stdout",
     "text": [
      "Random Numbers\n\nMean: 1.6666666666666667\nMedian: 2.0\nMode: 0    6\ndtype: int64\n"
     ]
    }
   ],
   "source": [
    "random_numbers = pd.Series([-5, -4, -1, 2, 4, 6, 6, 7, 0])\n",
    "\n",
    "print('Random Numbers\\n')\n",
    "print(f'Mean: {random_numbers.mean()}')\n",
    "print(f'Median: {random_numbers.median()}')\n",
    "print(f'Mode: {random_numbers.mode()}')"
   ]
  },
  {
   "cell_type": "code",
   "execution_count": 7,
   "metadata": {},
   "outputs": [],
   "source": [
    "titanic = pd.read_csv('titanic.csv')\n"
   ]
  },
  {
   "cell_type": "code",
   "execution_count": 8,
   "metadata": {},
   "outputs": [
    {
     "output_type": "stream",
     "name": "stdout",
     "text": [
      "Age\nMean: 29.69911764705882\nMedian: 28.0\nMode: 0    24.0\ndtype: float64\n"
     ]
    }
   ],
   "source": [
    "ages = titanic[\"Age\"]\n",
    "print('Age')\n",
    "print(f'Mean: {ages.mean()}')\n",
    "print(f'Median: {ages.median()}')\n",
    "print(f'Mode: {ages.mode()}')"
   ]
  },
  {
   "cell_type": "code",
   "execution_count": 9,
   "metadata": {},
   "outputs": [
    {
     "output_type": "stream",
     "name": "stdout",
     "text": [
      "Oldest Passenger: 80.0\n"
     ]
    }
   ],
   "source": [
    "print(f'Oldest Passenger: {ages.max()}')"
   ]
  },
  {
   "cell_type": "code",
   "execution_count": 10,
   "metadata": {},
   "outputs": [
    {
     "output_type": "stream",
     "name": "stdout",
     "text": [
      "Cheapest Ticket: 0.0\n"
     ]
    }
   ],
   "source": [
    "print(f'Cheapest Ticket: {titanic[\"Fare\"].min()}')"
   ]
  },
  {
   "cell_type": "code",
   "execution_count": 11,
   "metadata": {},
   "outputs": [
    {
     "output_type": "stream",
     "name": "stdout",
     "text": [
      "Range of Ticket Price: 512.3292\n"
     ]
    }
   ],
   "source": [
    "print(f'Range of Ticket Price: {titanic[\"Fare\"].max() - titanic[\"Fare\"].min()}')"
   ]
  },
  {
   "cell_type": "code",
   "execution_count": 12,
   "metadata": {},
   "outputs": [
    {
     "output_type": "execute_result",
     "data": {
      "text/plain": [
       "     PassengerId  Survived  Pclass                                   Name  \\\n",
       "0              1       0.0     3.0                    Abbing, Mr. Anthony   \n",
       "1              2       NaN     NaN            Abbott, Mr. Rossmore Edward   \n",
       "2              3       NaN     NaN       Abbott, Mrs. Stanton (Rosa Hunt)   \n",
       "3              4       NaN     NaN                    Abelson, Mr. Samuel   \n",
       "4              5       NaN     NaN  Abelson, Mrs. Samuel (Hannah Wizosky)   \n",
       "..           ...       ...     ...                                    ...   \n",
       "886          887       NaN     NaN                de Mulder, Mr. Theodore   \n",
       "887          888       NaN     NaN              de Pelsmaeker, Mr. Alfons   \n",
       "888          889       NaN     NaN              del Carlo, Mr. Sebastiano   \n",
       "889          890       NaN     NaN        van Billiard, Mr. Austin Blyler   \n",
       "890          891       NaN     NaN            van Melkebeke, Mr. Philemon   \n",
       "\n",
       "      Sex   Age  SibSp  Parch    Ticket  Fare        Cabin Embarked  \n",
       "0    male  24.0    0.0    0.0      1601  8.05      B96 B98        S  \n",
       "1     NaN   NaN    NaN    NaN    347082   NaN  C23 C25 C27      NaN  \n",
       "2     NaN   NaN    NaN    NaN  CA. 2343   NaN           G6      NaN  \n",
       "3     NaN   NaN    NaN    NaN       NaN   NaN          NaN      NaN  \n",
       "4     NaN   NaN    NaN    NaN       NaN   NaN          NaN      NaN  \n",
       "..    ...   ...    ...    ...       ...   ...          ...      ...  \n",
       "886   NaN   NaN    NaN    NaN       NaN   NaN          NaN      NaN  \n",
       "887   NaN   NaN    NaN    NaN       NaN   NaN          NaN      NaN  \n",
       "888   NaN   NaN    NaN    NaN       NaN   NaN          NaN      NaN  \n",
       "889   NaN   NaN    NaN    NaN       NaN   NaN          NaN      NaN  \n",
       "890   NaN   NaN    NaN    NaN       NaN   NaN          NaN      NaN  \n",
       "\n",
       "[891 rows x 12 columns]"
      ],
      "text/html": "<div>\n<style scoped>\n    .dataframe tbody tr th:only-of-type {\n        vertical-align: middle;\n    }\n\n    .dataframe tbody tr th {\n        vertical-align: top;\n    }\n\n    .dataframe thead th {\n        text-align: right;\n    }\n</style>\n<table border=\"1\" class=\"dataframe\">\n  <thead>\n    <tr style=\"text-align: right;\">\n      <th></th>\n      <th>PassengerId</th>\n      <th>Survived</th>\n      <th>Pclass</th>\n      <th>Name</th>\n      <th>Sex</th>\n      <th>Age</th>\n      <th>SibSp</th>\n      <th>Parch</th>\n      <th>Ticket</th>\n      <th>Fare</th>\n      <th>Cabin</th>\n      <th>Embarked</th>\n    </tr>\n  </thead>\n  <tbody>\n    <tr>\n      <th>0</th>\n      <td>1</td>\n      <td>0.0</td>\n      <td>3.0</td>\n      <td>Abbing, Mr. Anthony</td>\n      <td>male</td>\n      <td>24.0</td>\n      <td>0.0</td>\n      <td>0.0</td>\n      <td>1601</td>\n      <td>8.05</td>\n      <td>B96 B98</td>\n      <td>S</td>\n    </tr>\n    <tr>\n      <th>1</th>\n      <td>2</td>\n      <td>NaN</td>\n      <td>NaN</td>\n      <td>Abbott, Mr. Rossmore Edward</td>\n      <td>NaN</td>\n      <td>NaN</td>\n      <td>NaN</td>\n      <td>NaN</td>\n      <td>347082</td>\n      <td>NaN</td>\n      <td>C23 C25 C27</td>\n      <td>NaN</td>\n    </tr>\n    <tr>\n      <th>2</th>\n      <td>3</td>\n      <td>NaN</td>\n      <td>NaN</td>\n      <td>Abbott, Mrs. Stanton (Rosa Hunt)</td>\n      <td>NaN</td>\n      <td>NaN</td>\n      <td>NaN</td>\n      <td>NaN</td>\n      <td>CA. 2343</td>\n      <td>NaN</td>\n      <td>G6</td>\n      <td>NaN</td>\n    </tr>\n    <tr>\n      <th>3</th>\n      <td>4</td>\n      <td>NaN</td>\n      <td>NaN</td>\n      <td>Abelson, Mr. Samuel</td>\n      <td>NaN</td>\n      <td>NaN</td>\n      <td>NaN</td>\n      <td>NaN</td>\n      <td>NaN</td>\n      <td>NaN</td>\n      <td>NaN</td>\n      <td>NaN</td>\n    </tr>\n    <tr>\n      <th>4</th>\n      <td>5</td>\n      <td>NaN</td>\n      <td>NaN</td>\n      <td>Abelson, Mrs. Samuel (Hannah Wizosky)</td>\n      <td>NaN</td>\n      <td>NaN</td>\n      <td>NaN</td>\n      <td>NaN</td>\n      <td>NaN</td>\n      <td>NaN</td>\n      <td>NaN</td>\n      <td>NaN</td>\n    </tr>\n    <tr>\n      <th>...</th>\n      <td>...</td>\n      <td>...</td>\n      <td>...</td>\n      <td>...</td>\n      <td>...</td>\n      <td>...</td>\n      <td>...</td>\n      <td>...</td>\n      <td>...</td>\n      <td>...</td>\n      <td>...</td>\n      <td>...</td>\n    </tr>\n    <tr>\n      <th>886</th>\n      <td>887</td>\n      <td>NaN</td>\n      <td>NaN</td>\n      <td>de Mulder, Mr. Theodore</td>\n      <td>NaN</td>\n      <td>NaN</td>\n      <td>NaN</td>\n      <td>NaN</td>\n      <td>NaN</td>\n      <td>NaN</td>\n      <td>NaN</td>\n      <td>NaN</td>\n    </tr>\n    <tr>\n      <th>887</th>\n      <td>888</td>\n      <td>NaN</td>\n      <td>NaN</td>\n      <td>de Pelsmaeker, Mr. Alfons</td>\n      <td>NaN</td>\n      <td>NaN</td>\n      <td>NaN</td>\n      <td>NaN</td>\n      <td>NaN</td>\n      <td>NaN</td>\n      <td>NaN</td>\n      <td>NaN</td>\n    </tr>\n    <tr>\n      <th>888</th>\n      <td>889</td>\n      <td>NaN</td>\n      <td>NaN</td>\n      <td>del Carlo, Mr. Sebastiano</td>\n      <td>NaN</td>\n      <td>NaN</td>\n      <td>NaN</td>\n      <td>NaN</td>\n      <td>NaN</td>\n      <td>NaN</td>\n      <td>NaN</td>\n      <td>NaN</td>\n    </tr>\n    <tr>\n      <th>889</th>\n      <td>890</td>\n      <td>NaN</td>\n      <td>NaN</td>\n      <td>van Billiard, Mr. Austin Blyler</td>\n      <td>NaN</td>\n      <td>NaN</td>\n      <td>NaN</td>\n      <td>NaN</td>\n      <td>NaN</td>\n      <td>NaN</td>\n      <td>NaN</td>\n      <td>NaN</td>\n    </tr>\n    <tr>\n      <th>890</th>\n      <td>891</td>\n      <td>NaN</td>\n      <td>NaN</td>\n      <td>van Melkebeke, Mr. Philemon</td>\n      <td>NaN</td>\n      <td>NaN</td>\n      <td>NaN</td>\n      <td>NaN</td>\n      <td>NaN</td>\n      <td>NaN</td>\n      <td>NaN</td>\n      <td>NaN</td>\n    </tr>\n  </tbody>\n</table>\n<p>891 rows × 12 columns</p>\n</div>"
     },
     "metadata": {},
     "execution_count": 12
    }
   ],
   "source": [
    "titanic.mode()"
   ]
  },
  {
   "cell_type": "code",
   "execution_count": 13,
   "metadata": {},
   "outputs": [
    {
     "output_type": "execute_result",
     "data": {
      "text/plain": [
       "17.0"
      ]
     },
     "metadata": {},
     "execution_count": 13
    }
   ],
   "source": [
    "np.mean([15, 18, 16, 19])\n",
    "\n",
    "\n",
    "# pd.Series([20, 14, 12, 14, 26, 16, 18, 19, 14]).mode()"
   ]
  },
  {
   "cell_type": "code",
   "execution_count": 14,
   "metadata": {},
   "outputs": [
    {
     "output_type": "stream",
     "name": "stdout",
     "text": [
      "Custom Median: 4\nNumpy Median: 4.0\n"
     ]
    }
   ],
   "source": [
    "data = np.array([1, 3, 5, 2, 3, 7, 8, 4, 10, 0, 6, 7, 3, 0, 3, 0, 5, 7, 10, 1, 4, 9, 3])\n",
    "\n",
    "def compute_median(dataset):\n",
    "    \"\"\" Returns the median of the dataset. \"\"\"\n",
    "    dataset.sort()\n",
    "    length = len(dataset)\n",
    "    middle = int(length / 2)\n",
    "\n",
    "    if length % 2 == 0:\n",
    "        return (dataset[middle - 1] + dataset[middle]) / 2\n",
    "    return dataset[middle]\n",
    "\n",
    "print(f\"Custom Median: {compute_median(data)}\")\n",
    "print(f\"Numpy Median: {np.median(data)}\")"
   ]
  },
  {
   "cell_type": "code",
   "execution_count": 25,
   "metadata": {},
   "outputs": [
    {
     "output_type": "stream",
     "name": "stdout",
     "text": [
      "Custom Mode: 2\nPandas Mode: 0    2\n1    5\ndtype: int64\n"
     ]
    }
   ],
   "source": [
    "data = pd.Series([1, 2, 2, 5, 5])\n",
    "\n",
    "def compute_mode(dataset):\n",
    "    \"\"\"Returns the mode of the dataset.\"\"\"\n",
    "    \n",
    "    frequency = {}\n",
    "    for value in dataset:\n",
    "        if frequency.get(value) is None:\n",
    "            frequency[value] = 1\n",
    "        else:\n",
    "            frequency[value] += 1\n",
    "\n",
    "    mode = []\n",
    "    highestest_frequency = -1\n",
    "    for key in frequency:\n",
    "        if frequency[key] > highestest_frequency:\n",
    "            highestest_frequency = frequency[key]\n",
    "            mode = [key]\n",
    "\n",
    "    return mode\n",
    "\n",
    "print(f\"Custom Mode: {compute_mode(data)}\")\n",
    "print(f\"Pandas Mode: {data.mode()}\")"
   ]
  },
  {
   "cell_type": "code",
   "execution_count": null,
   "metadata": {},
   "outputs": [],
   "source": []
  }
 ]
}