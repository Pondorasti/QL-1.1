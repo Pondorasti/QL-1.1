{
 "metadata": {
  "language_info": {
   "codemirror_mode": {
    "name": "ipython",
    "version": 3
   },
   "file_extension": ".py",
   "mimetype": "text/x-python",
   "name": "python",
   "nbconvert_exporter": "python",
   "pygments_lexer": "ipython3",
   "version": "3.8.3-final"
  },
  "orig_nbformat": 2,
  "kernelspec": {
   "name": "python3",
   "display_name": "Python 3"
  }
 },
 "nbformat": 4,
 "nbformat_minor": 2,
 "cells": [
  {
   "cell_type": "code",
   "execution_count": 43,
   "metadata": {},
   "outputs": [],
   "source": [
    "import numpy as np\n",
    "import pandas as pd"
   ]
  },
  {
   "cell_type": "code",
   "execution_count": 44,
   "metadata": {},
   "outputs": [
    {
     "output_type": "stream",
     "name": "stdout",
     "text": [
      "0.2197046085518909\n16326.333333333334\n"
     ]
    }
   ],
   "source": [
    "europe = pd.Series([48704, 41442, 32679, 32136, 30384, 29326, 27789])\n",
    "asia = pd.Series([26852, 23493, 18247, 13647, 9857, 5862])\n",
    "\n",
    "europe_cvar = europe.std() / europe.mean()\n",
    "asia_cvar = asia.mean()\n",
    "\n",
    "print(europe_cvar)\n",
    "print(asia_cvar)"
   ]
  },
  {
   "cell_type": "code",
   "execution_count": 45,
   "metadata": {},
   "outputs": [
    {
     "output_type": "stream",
     "name": "stdout",
     "text": [
      "['greek salad', 'sashimi', 'saffron ice cream']\n['greek salad', 'sashimi', 'mango shake']\n['greek salad', 'sashimi', 'tiramisu']\n['greek salad', 'sushi', 'saffron ice cream']\n['greek salad', 'sushi', 'mango shake']\n['greek salad', 'sushi', 'tiramisu']\n['greek salad', 'donair', 'saffron ice cream']\n['greek salad', 'donair', 'mango shake']\n['greek salad', 'donair', 'tiramisu']\n['greek salad', 'falafel', 'saffron ice cream']\n['greek salad', 'falafel', 'mango shake']\n['greek salad', 'falafel', 'tiramisu']\n['seaweed salad', 'sashimi', 'saffron ice cream']\n['seaweed salad', 'sashimi', 'mango shake']\n['seaweed salad', 'sashimi', 'tiramisu']\n['seaweed salad', 'sushi', 'saffron ice cream']\n['seaweed salad', 'sushi', 'mango shake']\n['seaweed salad', 'sushi', 'tiramisu']\n['seaweed salad', 'donair', 'saffron ice cream']\n['seaweed salad', 'donair', 'mango shake']\n['seaweed salad', 'donair', 'tiramisu']\n['seaweed salad', 'falafel', 'saffron ice cream']\n['seaweed salad', 'falafel', 'mango shake']\n['seaweed salad', 'falafel', 'tiramisu']\n['miso soup', 'sashimi', 'saffron ice cream']\n['miso soup', 'sashimi', 'mango shake']\n['miso soup', 'sashimi', 'tiramisu']\n['miso soup', 'sushi', 'saffron ice cream']\n['miso soup', 'sushi', 'mango shake']\n['miso soup', 'sushi', 'tiramisu']\n['miso soup', 'donair', 'saffron ice cream']\n['miso soup', 'donair', 'mango shake']\n['miso soup', 'donair', 'tiramisu']\n['miso soup', 'falafel', 'saffron ice cream']\n['miso soup', 'falafel', 'mango shake']\n['miso soup', 'falafel', 'tiramisu']\n"
     ]
    }
   ],
   "source": [
    "specials = [[\"greek salad\", \"seaweed salad\", \"miso soup\"], [\"sashimi\", \"sushi\", \"donair\", \"falafel\"], [\"saffron ice cream\", \"mango shake\", \"tiramisu\"]]\n",
    "def dinner_combinations(index = 0, ans = [], options = specials):\n",
    "    if index >= len(options):\n",
    "        print(ans)\n",
    "        return\n",
    "    \n",
    "    for item in options[index]:\n",
    "        ans.append(item)\n",
    "        dinner_combinations(index = index + 1, ans = ans)\n",
    "        ans.pop()\n",
    "\n",
    "dinner_combinations()\n"
   ]
  }
 ]
}